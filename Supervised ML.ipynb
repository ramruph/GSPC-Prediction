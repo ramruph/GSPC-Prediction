{
 "cells": [
  {
   "cell_type": "markdown",
   "id": "fca28cb7",
   "metadata": {},
   "source": [
    "# Stock Market Prediction"
   ]
  },
  {
   "cell_type": "markdown",
   "id": "be13ad94",
   "metadata": {},
   "source": [
    "## Overview"
   ]
  },
  {
   "cell_type": "markdown",
   "id": "6f914ecf",
   "metadata": {},
   "source": [
    "In this project to use the S&P500 data, a Linear Regression, and a Random Forest Ensemble Supervised Learning Model to predict the overall Stock Market and if tomorrow's price will go up or down in direction.\n",
    "\n",
    "I choose to use the s&p500 data because the S&P500 index is a representation of the top 500 companies in the United States and represents the state of the US Economy. \n",
    "\n",
    "This will allow for a better understanding of the potential direction the markets are in and allow me or someone else to use this data to guide invesment strategies and assess risk for investors.\n"
   ]
  },
  {
   "cell_type": "code",
   "execution_count": 1,
   "id": "f1ff2184",
   "metadata": {},
   "outputs": [],
   "source": [
    "# Libraries\n",
    "import pandas as pd\n",
    "import numpy as np\n",
    "import yfinance as yf\n",
    "import seaborn as sns\n",
    "import matplotlib.pyplot as plt\n",
    "import mplfinance as mpf\n",
    "\n",
    "\n",
    "import statsmodels.api as sm\n",
    "\n",
    "# Model Libraries\n",
    "from sklearn.model_selection import train_test_split\n",
    "from sklearn.preprocessing import StandardScaler\n",
    "from sklearn.linear_model import LinearRegression\n",
    "from sklearn.ensemble import RandomForestClassifier\n",
    "from sklearn.metrics import accuracy_score, confusion_matrix, classification_report ,plot_precision_recall_curve\n",
    "from sklearn.metrics import mean_squared_error,precision_score, mean_absolute_error,r2_score"
   ]
  },
  {
   "cell_type": "markdown",
   "id": "07bd7104",
   "metadata": {},
   "source": [
    "## Data"
   ]
  },
  {
   "cell_type": "markdown",
   "id": "dbb96273",
   "metadata": {},
   "source": [
    "For this project I will utilize Yahoo Finance's API- yfinance to get the historical data for the sp500.\n",
    "\n",
    "The Data is daily ranging from 1927 to Current Day"
   ]
  },
  {
   "cell_type": "code",
   "execution_count": 2,
   "id": "a55197c8",
   "metadata": {},
   "outputs": [],
   "source": [
    "ticker_symbol = '^GSPC'"
   ]
  },
  {
   "cell_type": "code",
   "execution_count": 3,
   "id": "45fa142e",
   "metadata": {},
   "outputs": [],
   "source": [
    "# Creates a class for the Ticker symbol for the sp500 containing data from yahoo finance's api\n",
    "sp500 = yf.Ticker(ticker_symbol)"
   ]
  },
  {
   "cell_type": "code",
   "execution_count": 4,
   "id": "265e0ebc",
   "metadata": {},
   "outputs": [],
   "source": [
    "#Historical Data\n",
    "sp500_df = sp500.history(period = \"Max\")"
   ]
  },
  {
   "cell_type": "code",
   "execution_count": 5,
   "id": "690ec8ba",
   "metadata": {},
   "outputs": [
    {
     "data": {
      "text/html": [
       "<div>\n",
       "<style scoped>\n",
       "    .dataframe tbody tr th:only-of-type {\n",
       "        vertical-align: middle;\n",
       "    }\n",
       "\n",
       "    .dataframe tbody tr th {\n",
       "        vertical-align: top;\n",
       "    }\n",
       "\n",
       "    .dataframe thead th {\n",
       "        text-align: right;\n",
       "    }\n",
       "</style>\n",
       "<table border=\"1\" class=\"dataframe\">\n",
       "  <thead>\n",
       "    <tr style=\"text-align: right;\">\n",
       "      <th></th>\n",
       "      <th>Open</th>\n",
       "      <th>High</th>\n",
       "      <th>Low</th>\n",
       "      <th>Close</th>\n",
       "      <th>Volume</th>\n",
       "      <th>Dividends</th>\n",
       "      <th>Stock Splits</th>\n",
       "    </tr>\n",
       "    <tr>\n",
       "      <th>Date</th>\n",
       "      <th></th>\n",
       "      <th></th>\n",
       "      <th></th>\n",
       "      <th></th>\n",
       "      <th></th>\n",
       "      <th></th>\n",
       "      <th></th>\n",
       "    </tr>\n",
       "  </thead>\n",
       "  <tbody>\n",
       "    <tr>\n",
       "      <th>1927-12-30 00:00:00-05:00</th>\n",
       "      <td>17.660000</td>\n",
       "      <td>17.660000</td>\n",
       "      <td>17.660000</td>\n",
       "      <td>17.660000</td>\n",
       "      <td>0</td>\n",
       "      <td>0.0</td>\n",
       "      <td>0.0</td>\n",
       "    </tr>\n",
       "    <tr>\n",
       "      <th>1928-01-03 00:00:00-05:00</th>\n",
       "      <td>17.760000</td>\n",
       "      <td>17.760000</td>\n",
       "      <td>17.760000</td>\n",
       "      <td>17.760000</td>\n",
       "      <td>0</td>\n",
       "      <td>0.0</td>\n",
       "      <td>0.0</td>\n",
       "    </tr>\n",
       "    <tr>\n",
       "      <th>1928-01-04 00:00:00-05:00</th>\n",
       "      <td>17.719999</td>\n",
       "      <td>17.719999</td>\n",
       "      <td>17.719999</td>\n",
       "      <td>17.719999</td>\n",
       "      <td>0</td>\n",
       "      <td>0.0</td>\n",
       "      <td>0.0</td>\n",
       "    </tr>\n",
       "    <tr>\n",
       "      <th>1928-01-05 00:00:00-05:00</th>\n",
       "      <td>17.549999</td>\n",
       "      <td>17.549999</td>\n",
       "      <td>17.549999</td>\n",
       "      <td>17.549999</td>\n",
       "      <td>0</td>\n",
       "      <td>0.0</td>\n",
       "      <td>0.0</td>\n",
       "    </tr>\n",
       "    <tr>\n",
       "      <th>1928-01-06 00:00:00-05:00</th>\n",
       "      <td>17.660000</td>\n",
       "      <td>17.660000</td>\n",
       "      <td>17.660000</td>\n",
       "      <td>17.660000</td>\n",
       "      <td>0</td>\n",
       "      <td>0.0</td>\n",
       "      <td>0.0</td>\n",
       "    </tr>\n",
       "    <tr>\n",
       "      <th>...</th>\n",
       "      <td>...</td>\n",
       "      <td>...</td>\n",
       "      <td>...</td>\n",
       "      <td>...</td>\n",
       "      <td>...</td>\n",
       "      <td>...</td>\n",
       "      <td>...</td>\n",
       "    </tr>\n",
       "    <tr>\n",
       "      <th>2023-04-24 00:00:00-04:00</th>\n",
       "      <td>4132.069824</td>\n",
       "      <td>4142.410156</td>\n",
       "      <td>4117.770020</td>\n",
       "      <td>4137.040039</td>\n",
       "      <td>3290940000</td>\n",
       "      <td>0.0</td>\n",
       "      <td>0.0</td>\n",
       "    </tr>\n",
       "    <tr>\n",
       "      <th>2023-04-25 00:00:00-04:00</th>\n",
       "      <td>4126.430176</td>\n",
       "      <td>4126.430176</td>\n",
       "      <td>4071.379883</td>\n",
       "      <td>4071.629883</td>\n",
       "      <td>3978640000</td>\n",
       "      <td>0.0</td>\n",
       "      <td>0.0</td>\n",
       "    </tr>\n",
       "    <tr>\n",
       "      <th>2023-04-26 00:00:00-04:00</th>\n",
       "      <td>4087.780029</td>\n",
       "      <td>4089.669922</td>\n",
       "      <td>4049.350098</td>\n",
       "      <td>4055.989990</td>\n",
       "      <td>3837030000</td>\n",
       "      <td>0.0</td>\n",
       "      <td>0.0</td>\n",
       "    </tr>\n",
       "    <tr>\n",
       "      <th>2023-04-27 00:00:00-04:00</th>\n",
       "      <td>4075.290039</td>\n",
       "      <td>4138.240234</td>\n",
       "      <td>4075.290039</td>\n",
       "      <td>4135.350098</td>\n",
       "      <td>3750550000</td>\n",
       "      <td>0.0</td>\n",
       "      <td>0.0</td>\n",
       "    </tr>\n",
       "    <tr>\n",
       "      <th>2023-04-28 00:00:00-04:00</th>\n",
       "      <td>4129.299805</td>\n",
       "      <td>4166.459961</td>\n",
       "      <td>4127.169922</td>\n",
       "      <td>4160.290039</td>\n",
       "      <td>1834513000</td>\n",
       "      <td>0.0</td>\n",
       "      <td>0.0</td>\n",
       "    </tr>\n",
       "  </tbody>\n",
       "</table>\n",
       "<p>23941 rows × 7 columns</p>\n",
       "</div>"
      ],
      "text/plain": [
       "                                  Open         High          Low        Close  \\\n",
       "Date                                                                            \n",
       "1927-12-30 00:00:00-05:00    17.660000    17.660000    17.660000    17.660000   \n",
       "1928-01-03 00:00:00-05:00    17.760000    17.760000    17.760000    17.760000   \n",
       "1928-01-04 00:00:00-05:00    17.719999    17.719999    17.719999    17.719999   \n",
       "1928-01-05 00:00:00-05:00    17.549999    17.549999    17.549999    17.549999   \n",
       "1928-01-06 00:00:00-05:00    17.660000    17.660000    17.660000    17.660000   \n",
       "...                                ...          ...          ...          ...   \n",
       "2023-04-24 00:00:00-04:00  4132.069824  4142.410156  4117.770020  4137.040039   \n",
       "2023-04-25 00:00:00-04:00  4126.430176  4126.430176  4071.379883  4071.629883   \n",
       "2023-04-26 00:00:00-04:00  4087.780029  4089.669922  4049.350098  4055.989990   \n",
       "2023-04-27 00:00:00-04:00  4075.290039  4138.240234  4075.290039  4135.350098   \n",
       "2023-04-28 00:00:00-04:00  4129.299805  4166.459961  4127.169922  4160.290039   \n",
       "\n",
       "                               Volume  Dividends  Stock Splits  \n",
       "Date                                                            \n",
       "1927-12-30 00:00:00-05:00           0        0.0           0.0  \n",
       "1928-01-03 00:00:00-05:00           0        0.0           0.0  \n",
       "1928-01-04 00:00:00-05:00           0        0.0           0.0  \n",
       "1928-01-05 00:00:00-05:00           0        0.0           0.0  \n",
       "1928-01-06 00:00:00-05:00           0        0.0           0.0  \n",
       "...                               ...        ...           ...  \n",
       "2023-04-24 00:00:00-04:00  3290940000        0.0           0.0  \n",
       "2023-04-25 00:00:00-04:00  3978640000        0.0           0.0  \n",
       "2023-04-26 00:00:00-04:00  3837030000        0.0           0.0  \n",
       "2023-04-27 00:00:00-04:00  3750550000        0.0           0.0  \n",
       "2023-04-28 00:00:00-04:00  1834513000        0.0           0.0  \n",
       "\n",
       "[23941 rows x 7 columns]"
      ]
     },
     "execution_count": 5,
     "metadata": {},
     "output_type": "execute_result"
    }
   ],
   "source": [
    "sp500_df"
   ]
  },
  {
   "cell_type": "markdown",
   "id": "5b1cce97",
   "metadata": {},
   "source": [
    "## EDA"
   ]
  },
  {
   "cell_type": "code",
   "execution_count": 6,
   "id": "df907fd6",
   "metadata": {
    "scrolled": false
   },
   "outputs": [
    {
     "data": {
      "text/html": [
       "<div>\n",
       "<style scoped>\n",
       "    .dataframe tbody tr th:only-of-type {\n",
       "        vertical-align: middle;\n",
       "    }\n",
       "\n",
       "    .dataframe tbody tr th {\n",
       "        vertical-align: top;\n",
       "    }\n",
       "\n",
       "    .dataframe thead th {\n",
       "        text-align: right;\n",
       "    }\n",
       "</style>\n",
       "<table border=\"1\" class=\"dataframe\">\n",
       "  <thead>\n",
       "    <tr style=\"text-align: right;\">\n",
       "      <th></th>\n",
       "      <th>Open</th>\n",
       "      <th>High</th>\n",
       "      <th>Low</th>\n",
       "      <th>Close</th>\n",
       "      <th>Volume</th>\n",
       "      <th>Dividends</th>\n",
       "      <th>Stock Splits</th>\n",
       "    </tr>\n",
       "  </thead>\n",
       "  <tbody>\n",
       "    <tr>\n",
       "      <th>count</th>\n",
       "      <td>23941.000000</td>\n",
       "      <td>23941.000000</td>\n",
       "      <td>23941.000000</td>\n",
       "      <td>23941.000000</td>\n",
       "      <td>2.394100e+04</td>\n",
       "      <td>23941.0</td>\n",
       "      <td>23941.0</td>\n",
       "    </tr>\n",
       "    <tr>\n",
       "      <th>mean</th>\n",
       "      <td>561.671640</td>\n",
       "      <td>585.236158</td>\n",
       "      <td>578.026109</td>\n",
       "      <td>581.860322</td>\n",
       "      <td>8.667354e+08</td>\n",
       "      <td>0.0</td>\n",
       "      <td>0.0</td>\n",
       "    </tr>\n",
       "    <tr>\n",
       "      <th>std</th>\n",
       "      <td>934.715084</td>\n",
       "      <td>928.800815</td>\n",
       "      <td>917.601717</td>\n",
       "      <td>923.557190</td>\n",
       "      <td>1.589331e+09</td>\n",
       "      <td>0.0</td>\n",
       "      <td>0.0</td>\n",
       "    </tr>\n",
       "    <tr>\n",
       "      <th>min</th>\n",
       "      <td>0.000000</td>\n",
       "      <td>4.400000</td>\n",
       "      <td>4.400000</td>\n",
       "      <td>4.400000</td>\n",
       "      <td>0.000000e+00</td>\n",
       "      <td>0.0</td>\n",
       "      <td>0.0</td>\n",
       "    </tr>\n",
       "    <tr>\n",
       "      <th>25%</th>\n",
       "      <td>9.530000</td>\n",
       "      <td>24.420000</td>\n",
       "      <td>24.420000</td>\n",
       "      <td>24.420000</td>\n",
       "      <td>1.440000e+06</td>\n",
       "      <td>0.0</td>\n",
       "      <td>0.0</td>\n",
       "    </tr>\n",
       "    <tr>\n",
       "      <th>50%</th>\n",
       "      <td>40.549999</td>\n",
       "      <td>102.120003</td>\n",
       "      <td>100.519997</td>\n",
       "      <td>101.279999</td>\n",
       "      <td>1.908000e+07</td>\n",
       "      <td>0.0</td>\n",
       "      <td>0.0</td>\n",
       "    </tr>\n",
       "    <tr>\n",
       "      <th>75%</th>\n",
       "      <td>954.289978</td>\n",
       "      <td>964.169983</td>\n",
       "      <td>948.000000</td>\n",
       "      <td>955.049988</td>\n",
       "      <td>8.011000e+08</td>\n",
       "      <td>0.0</td>\n",
       "      <td>0.0</td>\n",
       "    </tr>\n",
       "    <tr>\n",
       "      <th>max</th>\n",
       "      <td>4804.509766</td>\n",
       "      <td>4818.620117</td>\n",
       "      <td>4780.040039</td>\n",
       "      <td>4796.560059</td>\n",
       "      <td>1.145623e+10</td>\n",
       "      <td>0.0</td>\n",
       "      <td>0.0</td>\n",
       "    </tr>\n",
       "  </tbody>\n",
       "</table>\n",
       "</div>"
      ],
      "text/plain": [
       "               Open          High           Low         Close        Volume  \\\n",
       "count  23941.000000  23941.000000  23941.000000  23941.000000  2.394100e+04   \n",
       "mean     561.671640    585.236158    578.026109    581.860322  8.667354e+08   \n",
       "std      934.715084    928.800815    917.601717    923.557190  1.589331e+09   \n",
       "min        0.000000      4.400000      4.400000      4.400000  0.000000e+00   \n",
       "25%        9.530000     24.420000     24.420000     24.420000  1.440000e+06   \n",
       "50%       40.549999    102.120003    100.519997    101.279999  1.908000e+07   \n",
       "75%      954.289978    964.169983    948.000000    955.049988  8.011000e+08   \n",
       "max     4804.509766   4818.620117   4780.040039   4796.560059  1.145623e+10   \n",
       "\n",
       "       Dividends  Stock Splits  \n",
       "count    23941.0       23941.0  \n",
       "mean         0.0           0.0  \n",
       "std          0.0           0.0  \n",
       "min          0.0           0.0  \n",
       "25%          0.0           0.0  \n",
       "50%          0.0           0.0  \n",
       "75%          0.0           0.0  \n",
       "max          0.0           0.0  "
      ]
     },
     "execution_count": 6,
     "metadata": {},
     "output_type": "execute_result"
    }
   ],
   "source": [
    "sp500_df.describe()"
   ]
  },
  {
   "cell_type": "code",
   "execution_count": 7,
   "id": "64f9bfcf",
   "metadata": {},
   "outputs": [
    {
     "name": "stdout",
     "output_type": "stream",
     "text": [
      "<class 'pandas.core.frame.DataFrame'>\n",
      "DatetimeIndex: 23941 entries, 1927-12-30 00:00:00-05:00 to 2023-04-28 00:00:00-04:00\n",
      "Data columns (total 7 columns):\n",
      " #   Column        Non-Null Count  Dtype  \n",
      "---  ------        --------------  -----  \n",
      " 0   Open          23941 non-null  float64\n",
      " 1   High          23941 non-null  float64\n",
      " 2   Low           23941 non-null  float64\n",
      " 3   Close         23941 non-null  float64\n",
      " 4   Volume        23941 non-null  int64  \n",
      " 5   Dividends     23941 non-null  float64\n",
      " 6   Stock Splits  23941 non-null  float64\n",
      "dtypes: float64(6), int64(1)\n",
      "memory usage: 1.5 MB\n"
     ]
    }
   ],
   "source": [
    "sp500_df.info()"
   ]
  },
  {
   "cell_type": "code",
   "execution_count": 8,
   "id": "04c41801",
   "metadata": {},
   "outputs": [
    {
     "data": {
      "text/plain": [
       "Open            float64\n",
       "High            float64\n",
       "Low             float64\n",
       "Close           float64\n",
       "Volume            int64\n",
       "Dividends       float64\n",
       "Stock Splits    float64\n",
       "dtype: object"
      ]
     },
     "execution_count": 8,
     "metadata": {},
     "output_type": "execute_result"
    }
   ],
   "source": [
    "sp500_df.dtypes"
   ]
  },
  {
   "cell_type": "code",
   "execution_count": 9,
   "id": "8fb521df",
   "metadata": {
    "scrolled": true
   },
   "outputs": [
    {
     "data": {
      "text/html": [
       "<div>\n",
       "<style scoped>\n",
       "    .dataframe tbody tr th:only-of-type {\n",
       "        vertical-align: middle;\n",
       "    }\n",
       "\n",
       "    .dataframe tbody tr th {\n",
       "        vertical-align: top;\n",
       "    }\n",
       "\n",
       "    .dataframe thead th {\n",
       "        text-align: right;\n",
       "    }\n",
       "</style>\n",
       "<table border=\"1\" class=\"dataframe\">\n",
       "  <thead>\n",
       "    <tr style=\"text-align: right;\">\n",
       "      <th></th>\n",
       "      <th>Open</th>\n",
       "      <th>High</th>\n",
       "      <th>Low</th>\n",
       "      <th>Close</th>\n",
       "      <th>Volume</th>\n",
       "      <th>Dividends</th>\n",
       "      <th>Stock Splits</th>\n",
       "    </tr>\n",
       "    <tr>\n",
       "      <th>Date</th>\n",
       "      <th></th>\n",
       "      <th></th>\n",
       "      <th></th>\n",
       "      <th></th>\n",
       "      <th></th>\n",
       "      <th></th>\n",
       "      <th></th>\n",
       "    </tr>\n",
       "  </thead>\n",
       "  <tbody>\n",
       "    <tr>\n",
       "      <th>1927-12-30 00:00:00-05:00</th>\n",
       "      <td>17.660000</td>\n",
       "      <td>17.660000</td>\n",
       "      <td>17.660000</td>\n",
       "      <td>17.660000</td>\n",
       "      <td>0</td>\n",
       "      <td>0.0</td>\n",
       "      <td>0.0</td>\n",
       "    </tr>\n",
       "    <tr>\n",
       "      <th>1928-01-03 00:00:00-05:00</th>\n",
       "      <td>17.760000</td>\n",
       "      <td>17.760000</td>\n",
       "      <td>17.760000</td>\n",
       "      <td>17.760000</td>\n",
       "      <td>0</td>\n",
       "      <td>0.0</td>\n",
       "      <td>0.0</td>\n",
       "    </tr>\n",
       "    <tr>\n",
       "      <th>1928-01-04 00:00:00-05:00</th>\n",
       "      <td>17.719999</td>\n",
       "      <td>17.719999</td>\n",
       "      <td>17.719999</td>\n",
       "      <td>17.719999</td>\n",
       "      <td>0</td>\n",
       "      <td>0.0</td>\n",
       "      <td>0.0</td>\n",
       "    </tr>\n",
       "    <tr>\n",
       "      <th>1928-01-05 00:00:00-05:00</th>\n",
       "      <td>17.549999</td>\n",
       "      <td>17.549999</td>\n",
       "      <td>17.549999</td>\n",
       "      <td>17.549999</td>\n",
       "      <td>0</td>\n",
       "      <td>0.0</td>\n",
       "      <td>0.0</td>\n",
       "    </tr>\n",
       "    <tr>\n",
       "      <th>1928-01-06 00:00:00-05:00</th>\n",
       "      <td>17.660000</td>\n",
       "      <td>17.660000</td>\n",
       "      <td>17.660000</td>\n",
       "      <td>17.660000</td>\n",
       "      <td>0</td>\n",
       "      <td>0.0</td>\n",
       "      <td>0.0</td>\n",
       "    </tr>\n",
       "    <tr>\n",
       "      <th>...</th>\n",
       "      <td>...</td>\n",
       "      <td>...</td>\n",
       "      <td>...</td>\n",
       "      <td>...</td>\n",
       "      <td>...</td>\n",
       "      <td>...</td>\n",
       "      <td>...</td>\n",
       "    </tr>\n",
       "    <tr>\n",
       "      <th>2023-04-24 00:00:00-04:00</th>\n",
       "      <td>4132.069824</td>\n",
       "      <td>4142.410156</td>\n",
       "      <td>4117.770020</td>\n",
       "      <td>4137.040039</td>\n",
       "      <td>3290940000</td>\n",
       "      <td>0.0</td>\n",
       "      <td>0.0</td>\n",
       "    </tr>\n",
       "    <tr>\n",
       "      <th>2023-04-25 00:00:00-04:00</th>\n",
       "      <td>4126.430176</td>\n",
       "      <td>4126.430176</td>\n",
       "      <td>4071.379883</td>\n",
       "      <td>4071.629883</td>\n",
       "      <td>3978640000</td>\n",
       "      <td>0.0</td>\n",
       "      <td>0.0</td>\n",
       "    </tr>\n",
       "    <tr>\n",
       "      <th>2023-04-26 00:00:00-04:00</th>\n",
       "      <td>4087.780029</td>\n",
       "      <td>4089.669922</td>\n",
       "      <td>4049.350098</td>\n",
       "      <td>4055.989990</td>\n",
       "      <td>3837030000</td>\n",
       "      <td>0.0</td>\n",
       "      <td>0.0</td>\n",
       "    </tr>\n",
       "    <tr>\n",
       "      <th>2023-04-27 00:00:00-04:00</th>\n",
       "      <td>4075.290039</td>\n",
       "      <td>4138.240234</td>\n",
       "      <td>4075.290039</td>\n",
       "      <td>4135.350098</td>\n",
       "      <td>3750550000</td>\n",
       "      <td>0.0</td>\n",
       "      <td>0.0</td>\n",
       "    </tr>\n",
       "    <tr>\n",
       "      <th>2023-04-28 00:00:00-04:00</th>\n",
       "      <td>4129.299805</td>\n",
       "      <td>4166.459961</td>\n",
       "      <td>4127.169922</td>\n",
       "      <td>4160.290039</td>\n",
       "      <td>1834513000</td>\n",
       "      <td>0.0</td>\n",
       "      <td>0.0</td>\n",
       "    </tr>\n",
       "  </tbody>\n",
       "</table>\n",
       "<p>23941 rows × 7 columns</p>\n",
       "</div>"
      ],
      "text/plain": [
       "                                  Open         High          Low        Close  \\\n",
       "Date                                                                            \n",
       "1927-12-30 00:00:00-05:00    17.660000    17.660000    17.660000    17.660000   \n",
       "1928-01-03 00:00:00-05:00    17.760000    17.760000    17.760000    17.760000   \n",
       "1928-01-04 00:00:00-05:00    17.719999    17.719999    17.719999    17.719999   \n",
       "1928-01-05 00:00:00-05:00    17.549999    17.549999    17.549999    17.549999   \n",
       "1928-01-06 00:00:00-05:00    17.660000    17.660000    17.660000    17.660000   \n",
       "...                                ...          ...          ...          ...   \n",
       "2023-04-24 00:00:00-04:00  4132.069824  4142.410156  4117.770020  4137.040039   \n",
       "2023-04-25 00:00:00-04:00  4126.430176  4126.430176  4071.379883  4071.629883   \n",
       "2023-04-26 00:00:00-04:00  4087.780029  4089.669922  4049.350098  4055.989990   \n",
       "2023-04-27 00:00:00-04:00  4075.290039  4138.240234  4075.290039  4135.350098   \n",
       "2023-04-28 00:00:00-04:00  4129.299805  4166.459961  4127.169922  4160.290039   \n",
       "\n",
       "                               Volume  Dividends  Stock Splits  \n",
       "Date                                                            \n",
       "1927-12-30 00:00:00-05:00           0        0.0           0.0  \n",
       "1928-01-03 00:00:00-05:00           0        0.0           0.0  \n",
       "1928-01-04 00:00:00-05:00           0        0.0           0.0  \n",
       "1928-01-05 00:00:00-05:00           0        0.0           0.0  \n",
       "1928-01-06 00:00:00-05:00           0        0.0           0.0  \n",
       "...                               ...        ...           ...  \n",
       "2023-04-24 00:00:00-04:00  3290940000        0.0           0.0  \n",
       "2023-04-25 00:00:00-04:00  3978640000        0.0           0.0  \n",
       "2023-04-26 00:00:00-04:00  3837030000        0.0           0.0  \n",
       "2023-04-27 00:00:00-04:00  3750550000        0.0           0.0  \n",
       "2023-04-28 00:00:00-04:00  1834513000        0.0           0.0  \n",
       "\n",
       "[23941 rows x 7 columns]"
      ]
     },
     "execution_count": 9,
     "metadata": {},
     "output_type": "execute_result"
    }
   ],
   "source": [
    "sp500_df"
   ]
  },
  {
   "cell_type": "code",
   "execution_count": 10,
   "id": "2e15e60a",
   "metadata": {},
   "outputs": [
    {
     "data": {
      "image/png": "[encoded data removed]",
      "text/plain": [
       "<Figure size 640x480 with 2 Axes>"
      ]
     },
     "metadata": {},
     "output_type": "display_data"
    }
   ],
   "source": [
    "sns.heatmap(sp500_df.corr(), annot=True, cmap='coolwarm')\n",
    "plt.title('Correlation Matrix')\n",
    "plt.show()"
   ]
  },
  {
   "cell_type": "code",
   "execution_count": 11,
   "id": "0fdd20bf",
   "metadata": {},
   "outputs": [
    {
     "data": {
      "image/png": "[encoded data removed]",
      "text/plain": [
       "<Figure size 800x575 with 4 Axes>"
      ]
     },
     "metadata": {},
     "output_type": "display_data"
    }
   ],
   "source": [
    "# Create a candlestick chart for this Current year's Data\n",
    "start_date = '2023-01-01'\n",
    "end_date = '2023-04-23'\n",
    "current_year = sp500_df.loc[start_date:end_date]\n",
    "\n",
    "# Create the candlestick chart\n",
    "mpf.plot(current_year, type='candle',\n",
    "         title='Candlestick Chart', ylabel='Price', volume=True)"
   ]
  },
  {
   "cell_type": "markdown",
   "id": "26b10b0c",
   "metadata": {},
   "source": [
    "### Data Cleaning"
   ]
  },
  {
   "cell_type": "code",
   "execution_count": 12,
   "id": "0cceb02c",
   "metadata": {},
   "outputs": [],
   "source": [
    "# Removing unneed Columns (Dividens, Stock Splits) because they only contain 0\n",
    "sp500_df = sp500_df.drop(columns=['Dividends', 'Stock Splits'])"
   ]
  },
  {
   "cell_type": "code",
   "execution_count": 13,
   "id": "35153798",
   "metadata": {},
   "outputs": [],
   "source": [
    "# Remove Volume = 0 days indicates no movement in stock volumes\n",
    "sp500_df = sp500_df[sp500_df['Volume'] != 0]"
   ]
  },
  {
   "cell_type": "code",
   "execution_count": 14,
   "id": "f9d25c77",
   "metadata": {
    "scrolled": false
   },
   "outputs": [
    {
     "data": {
      "image/png": "[encoded data removed]",
      "text/plain": [
       "<Figure size 1500x600 with 1 Axes>"
      ]
     },
     "metadata": {},
     "output_type": "display_data"
    }
   ],
   "source": [
    "# Create plot for Historical Performance\n",
    "plt.figure(figsize=(15, 6))\n",
    "plt.plot(sp500_df['Close'], label='Close')\n",
    "plt.xlabel(\"Date\")\n",
    "plt.ylabel(\"Close Price\")\n",
    "plt.title(\"S&P 500 Historical\")\n",
    "\n",
    "plt.show()"
   ]
  },
  {
   "cell_type": "code",
   "execution_count": 15,
   "id": "36a75d78",
   "metadata": {},
   "outputs": [],
   "source": [
    "# Get Daily Return Values to see general returns throughout history\n",
    "sp500_df['Daily_Return'] = sp500_df['Close'].pct_change()"
   ]
  },
  {
   "cell_type": "code",
   "execution_count": 16,
   "id": "c140352e",
   "metadata": {},
   "outputs": [
    {
     "data": {
      "image/png": "[encoded data removed]",
      "text/plain": [
       "<Figure size 1200x600 with 1 Axes>"
      ]
     },
     "metadata": {},
     "output_type": "display_data"
    }
   ],
   "source": [
    "# Plot Historical Daily Returns\n",
    "plt.figure(figsize=(12, 6))\n",
    "plt.plot(sp500_df['Daily_Return'])\n",
    "plt.title('S&P 500 Daily Returns')\n",
    "plt.xlabel('Date')\n",
    "plt.ylabel('Daily Return')\n",
    "plt.show()"
   ]
  },
  {
   "cell_type": "code",
   "execution_count": 17,
   "id": "c6fbe345",
   "metadata": {
    "scrolled": false
   },
   "outputs": [
    {
     "data": {
      "image/png": "[encoded data removed]",
      "text/plain": [
       "<Figure size 640x480 with 2 Axes>"
      ]
     },
     "metadata": {},
     "output_type": "display_data"
    }
   ],
   "source": [
    "sns.heatmap(sp500_df.corr(), annot=True, cmap='coolwarm')\n",
    "plt.title('Correlation Matrix')\n",
    "plt.show()"
   ]
  },
  {
   "cell_type": "markdown",
   "id": "d6866834",
   "metadata": {},
   "source": [
    "## Model Feature Engineering"
   ]
  },
  {
   "cell_type": "code",
   "execution_count": 18,
   "id": "a63bb19f",
   "metadata": {},
   "outputs": [],
   "source": [
    "# Create shift for Next Day Price \n",
    "sp500_df['Next Day Price'] = sp500_df['Close'].shift(-1)"
   ]
  },
  {
   "cell_type": "code",
   "execution_count": 19,
   "id": "f25cab29",
   "metadata": {},
   "outputs": [],
   "source": [
    "# Create Target Variable for Model\n",
    "# Create a boolean for if Tomorrow's price is > than Today Price's\n",
    "sp500_df['Target'] = (sp500_df['Next Day Price'] > sp500_df['Close']).astype(int)"
   ]
  },
  {
   "cell_type": "code",
   "execution_count": 20,
   "id": "c533d14d",
   "metadata": {
    "scrolled": false
   },
   "outputs": [
    {
     "data": {
      "text/html": [
       "<div>\n",
       "<style scoped>\n",
       "    .dataframe tbody tr th:only-of-type {\n",
       "        vertical-align: middle;\n",
       "    }\n",
       "\n",
       "    .dataframe tbody tr th {\n",
       "        vertical-align: top;\n",
       "    }\n",
       "\n",
       "    .dataframe thead th {\n",
       "        text-align: right;\n",
       "    }\n",
       "</style>\n",
       "<table border=\"1\" class=\"dataframe\">\n",
       "  <thead>\n",
       "    <tr style=\"text-align: right;\">\n",
       "      <th></th>\n",
       "      <th>Open</th>\n",
       "      <th>High</th>\n",
       "      <th>Low</th>\n",
       "      <th>Close</th>\n",
       "      <th>Volume</th>\n",
       "      <th>Daily_Return</th>\n",
       "      <th>Next Day Price</th>\n",
       "      <th>Target</th>\n",
       "    </tr>\n",
       "    <tr>\n",
       "      <th>Date</th>\n",
       "      <th></th>\n",
       "      <th></th>\n",
       "      <th></th>\n",
       "      <th></th>\n",
       "      <th></th>\n",
       "      <th></th>\n",
       "      <th></th>\n",
       "      <th></th>\n",
       "    </tr>\n",
       "  </thead>\n",
       "  <tbody>\n",
       "    <tr>\n",
       "      <th>1950-01-03 00:00:00-05:00</th>\n",
       "      <td>16.660000</td>\n",
       "      <td>16.660000</td>\n",
       "      <td>16.660000</td>\n",
       "      <td>16.660000</td>\n",
       "      <td>1260000</td>\n",
       "      <td>NaN</td>\n",
       "      <td>16.850000</td>\n",
       "      <td>1</td>\n",
       "    </tr>\n",
       "    <tr>\n",
       "      <th>1950-01-04 00:00:00-05:00</th>\n",
       "      <td>16.850000</td>\n",
       "      <td>16.850000</td>\n",
       "      <td>16.850000</td>\n",
       "      <td>16.850000</td>\n",
       "      <td>1890000</td>\n",
       "      <td>0.011405</td>\n",
       "      <td>16.930000</td>\n",
       "      <td>1</td>\n",
       "    </tr>\n",
       "    <tr>\n",
       "      <th>1950-01-05 00:00:00-05:00</th>\n",
       "      <td>16.930000</td>\n",
       "      <td>16.930000</td>\n",
       "      <td>16.930000</td>\n",
       "      <td>16.930000</td>\n",
       "      <td>2550000</td>\n",
       "      <td>0.004748</td>\n",
       "      <td>16.980000</td>\n",
       "      <td>1</td>\n",
       "    </tr>\n",
       "    <tr>\n",
       "      <th>1950-01-06 00:00:00-05:00</th>\n",
       "      <td>16.980000</td>\n",
       "      <td>16.980000</td>\n",
       "      <td>16.980000</td>\n",
       "      <td>16.980000</td>\n",
       "      <td>2010000</td>\n",
       "      <td>0.002953</td>\n",
       "      <td>17.080000</td>\n",
       "      <td>1</td>\n",
       "    </tr>\n",
       "    <tr>\n",
       "      <th>1950-01-09 00:00:00-05:00</th>\n",
       "      <td>17.080000</td>\n",
       "      <td>17.080000</td>\n",
       "      <td>17.080000</td>\n",
       "      <td>17.080000</td>\n",
       "      <td>2520000</td>\n",
       "      <td>0.005889</td>\n",
       "      <td>17.030001</td>\n",
       "      <td>0</td>\n",
       "    </tr>\n",
       "    <tr>\n",
       "      <th>...</th>\n",
       "      <td>...</td>\n",
       "      <td>...</td>\n",
       "      <td>...</td>\n",
       "      <td>...</td>\n",
       "      <td>...</td>\n",
       "      <td>...</td>\n",
       "      <td>...</td>\n",
       "      <td>...</td>\n",
       "    </tr>\n",
       "    <tr>\n",
       "      <th>2023-04-24 00:00:00-04:00</th>\n",
       "      <td>4132.069824</td>\n",
       "      <td>4142.410156</td>\n",
       "      <td>4117.770020</td>\n",
       "      <td>4137.040039</td>\n",
       "      <td>3290940000</td>\n",
       "      <td>0.000852</td>\n",
       "      <td>4071.629883</td>\n",
       "      <td>0</td>\n",
       "    </tr>\n",
       "    <tr>\n",
       "      <th>2023-04-25 00:00:00-04:00</th>\n",
       "      <td>4126.430176</td>\n",
       "      <td>4126.430176</td>\n",
       "      <td>4071.379883</td>\n",
       "      <td>4071.629883</td>\n",
       "      <td>3978640000</td>\n",
       "      <td>-0.015811</td>\n",
       "      <td>4055.989990</td>\n",
       "      <td>0</td>\n",
       "    </tr>\n",
       "    <tr>\n",
       "      <th>2023-04-26 00:00:00-04:00</th>\n",
       "      <td>4087.780029</td>\n",
       "      <td>4089.669922</td>\n",
       "      <td>4049.350098</td>\n",
       "      <td>4055.989990</td>\n",
       "      <td>3837030000</td>\n",
       "      <td>-0.003841</td>\n",
       "      <td>4135.350098</td>\n",
       "      <td>1</td>\n",
       "    </tr>\n",
       "    <tr>\n",
       "      <th>2023-04-27 00:00:00-04:00</th>\n",
       "      <td>4075.290039</td>\n",
       "      <td>4138.240234</td>\n",
       "      <td>4075.290039</td>\n",
       "      <td>4135.350098</td>\n",
       "      <td>3750550000</td>\n",
       "      <td>0.019566</td>\n",
       "      <td>4160.290039</td>\n",
       "      <td>1</td>\n",
       "    </tr>\n",
       "    <tr>\n",
       "      <th>2023-04-28 00:00:00-04:00</th>\n",
       "      <td>4129.299805</td>\n",
       "      <td>4166.459961</td>\n",
       "      <td>4127.169922</td>\n",
       "      <td>4160.290039</td>\n",
       "      <td>1834513000</td>\n",
       "      <td>0.006031</td>\n",
       "      <td>NaN</td>\n",
       "      <td>0</td>\n",
       "    </tr>\n",
       "  </tbody>\n",
       "</table>\n",
       "<p>18448 rows × 8 columns</p>\n",
       "</div>"
      ],
      "text/plain": [
       "                                  Open         High          Low        Close  \\\n",
       "Date                                                                            \n",
       "1950-01-03 00:00:00-05:00    16.660000    16.660000    16.660000    16.660000   \n",
       "1950-01-04 00:00:00-05:00    16.850000    16.850000    16.850000    16.850000   \n",
       "1950-01-05 00:00:00-05:00    16.930000    16.930000    16.930000    16.930000   \n",
       "1950-01-06 00:00:00-05:00    16.980000    16.980000    16.980000    16.980000   \n",
       "1950-01-09 00:00:00-05:00    17.080000    17.080000    17.080000    17.080000   \n",
       "...                                ...          ...          ...          ...   \n",
       "2023-04-24 00:00:00-04:00  4132.069824  4142.410156  4117.770020  4137.040039   \n",
       "2023-04-25 00:00:00-04:00  4126.430176  4126.430176  4071.379883  4071.629883   \n",
       "2023-04-26 00:00:00-04:00  4087.780029  4089.669922  4049.350098  4055.989990   \n",
       "2023-04-27 00:00:00-04:00  4075.290039  4138.240234  4075.290039  4135.350098   \n",
       "2023-04-28 00:00:00-04:00  4129.299805  4166.459961  4127.169922  4160.290039   \n",
       "\n",
       "                               Volume  Daily_Return  Next Day Price  Target  \n",
       "Date                                                                         \n",
       "1950-01-03 00:00:00-05:00     1260000           NaN       16.850000       1  \n",
       "1950-01-04 00:00:00-05:00     1890000      0.011405       16.930000       1  \n",
       "1950-01-05 00:00:00-05:00     2550000      0.004748       16.980000       1  \n",
       "1950-01-06 00:00:00-05:00     2010000      0.002953       17.080000       1  \n",
       "1950-01-09 00:00:00-05:00     2520000      0.005889       17.030001       0  \n",
       "...                               ...           ...             ...     ...  \n",
       "2023-04-24 00:00:00-04:00  3290940000      0.000852     4071.629883       0  \n",
       "2023-04-25 00:00:00-04:00  3978640000     -0.015811     4055.989990       0  \n",
       "2023-04-26 00:00:00-04:00  3837030000     -0.003841     4135.350098       1  \n",
       "2023-04-27 00:00:00-04:00  3750550000      0.019566     4160.290039       1  \n",
       "2023-04-28 00:00:00-04:00  1834513000      0.006031             NaN       0  \n",
       "\n",
       "[18448 rows x 8 columns]"
      ]
     },
     "execution_count": 20,
     "metadata": {},
     "output_type": "execute_result"
    }
   ],
   "source": [
    "sp500_df"
   ]
  },
  {
   "cell_type": "code",
   "execution_count": 21,
   "id": "bb8f69cf",
   "metadata": {},
   "outputs": [],
   "source": [
    "# Creates Linear Model Data\n",
    "linear_model_df = sp500_df.copy()"
   ]
  },
  {
   "cell_type": "markdown",
   "id": "f7871989",
   "metadata": {},
   "source": [
    "##### NOTE: \n",
    "I am filtering for 2000 + data since stock markets environment fundamentally changes through time and I don't want to incorporate noise into the models to get a more accurate representation of the stock market"
   ]
  },
  {
   "cell_type": "code",
   "execution_count": 22,
   "id": "d9fe0256",
   "metadata": {
    "scrolled": true
   },
   "outputs": [],
   "source": [
    "sp500_df = sp500_df.loc[\"2000-01-01\":].copy()"
   ]
  },
  {
   "cell_type": "code",
   "execution_count": 23,
   "id": "682d4e3e",
   "metadata": {
    "scrolled": true
   },
   "outputs": [],
   "source": [
    "# Create datasets for RF Model\n",
    "rf_model_df = sp500_df.copy()"
   ]
  },
  {
   "cell_type": "code",
   "execution_count": 24,
   "id": "ad090eb6",
   "metadata": {
    "scrolled": false
   },
   "outputs": [
    {
     "data": {
      "text/html": [
       "<div>\n",
       "<style scoped>\n",
       "    .dataframe tbody tr th:only-of-type {\n",
       "        vertical-align: middle;\n",
       "    }\n",
       "\n",
       "    .dataframe tbody tr th {\n",
       "        vertical-align: top;\n",
       "    }\n",
       "\n",
       "    .dataframe thead th {\n",
       "        text-align: right;\n",
       "    }\n",
       "</style>\n",
       "<table border=\"1\" class=\"dataframe\">\n",
       "  <thead>\n",
       "    <tr style=\"text-align: right;\">\n",
       "      <th></th>\n",
       "      <th>Open</th>\n",
       "      <th>High</th>\n",
       "      <th>Low</th>\n",
       "      <th>Close</th>\n",
       "      <th>Volume</th>\n",
       "      <th>Daily_Return</th>\n",
       "      <th>Next Day Price</th>\n",
       "      <th>Target</th>\n",
       "    </tr>\n",
       "    <tr>\n",
       "      <th>Date</th>\n",
       "      <th></th>\n",
       "      <th></th>\n",
       "      <th></th>\n",
       "      <th></th>\n",
       "      <th></th>\n",
       "      <th></th>\n",
       "      <th></th>\n",
       "      <th></th>\n",
       "    </tr>\n",
       "  </thead>\n",
       "  <tbody>\n",
       "    <tr>\n",
       "      <th>2000-01-03 00:00:00-05:00</th>\n",
       "      <td>1469.250000</td>\n",
       "      <td>1478.000000</td>\n",
       "      <td>1438.359985</td>\n",
       "      <td>1455.219971</td>\n",
       "      <td>931800000</td>\n",
       "      <td>-0.009549</td>\n",
       "      <td>1399.420044</td>\n",
       "      <td>0</td>\n",
       "    </tr>\n",
       "    <tr>\n",
       "      <th>2000-01-04 00:00:00-05:00</th>\n",
       "      <td>1455.219971</td>\n",
       "      <td>1455.219971</td>\n",
       "      <td>1397.430054</td>\n",
       "      <td>1399.420044</td>\n",
       "      <td>1009000000</td>\n",
       "      <td>-0.038345</td>\n",
       "      <td>1402.109985</td>\n",
       "      <td>1</td>\n",
       "    </tr>\n",
       "    <tr>\n",
       "      <th>2000-01-05 00:00:00-05:00</th>\n",
       "      <td>1399.420044</td>\n",
       "      <td>1413.270020</td>\n",
       "      <td>1377.680054</td>\n",
       "      <td>1402.109985</td>\n",
       "      <td>1085500000</td>\n",
       "      <td>0.001922</td>\n",
       "      <td>1403.449951</td>\n",
       "      <td>1</td>\n",
       "    </tr>\n",
       "    <tr>\n",
       "      <th>2000-01-06 00:00:00-05:00</th>\n",
       "      <td>1402.109985</td>\n",
       "      <td>1411.900024</td>\n",
       "      <td>1392.099976</td>\n",
       "      <td>1403.449951</td>\n",
       "      <td>1092300000</td>\n",
       "      <td>0.000956</td>\n",
       "      <td>1441.469971</td>\n",
       "      <td>1</td>\n",
       "    </tr>\n",
       "    <tr>\n",
       "      <th>2000-01-07 00:00:00-05:00</th>\n",
       "      <td>1403.449951</td>\n",
       "      <td>1441.469971</td>\n",
       "      <td>1400.729980</td>\n",
       "      <td>1441.469971</td>\n",
       "      <td>1225200000</td>\n",
       "      <td>0.027090</td>\n",
       "      <td>1457.599976</td>\n",
       "      <td>1</td>\n",
       "    </tr>\n",
       "    <tr>\n",
       "      <th>...</th>\n",
       "      <td>...</td>\n",
       "      <td>...</td>\n",
       "      <td>...</td>\n",
       "      <td>...</td>\n",
       "      <td>...</td>\n",
       "      <td>...</td>\n",
       "      <td>...</td>\n",
       "      <td>...</td>\n",
       "    </tr>\n",
       "    <tr>\n",
       "      <th>2023-04-24 00:00:00-04:00</th>\n",
       "      <td>4132.069824</td>\n",
       "      <td>4142.410156</td>\n",
       "      <td>4117.770020</td>\n",
       "      <td>4137.040039</td>\n",
       "      <td>3290940000</td>\n",
       "      <td>0.000852</td>\n",
       "      <td>4071.629883</td>\n",
       "      <td>0</td>\n",
       "    </tr>\n",
       "    <tr>\n",
       "      <th>2023-04-25 00:00:00-04:00</th>\n",
       "      <td>4126.430176</td>\n",
       "      <td>4126.430176</td>\n",
       "      <td>4071.379883</td>\n",
       "      <td>4071.629883</td>\n",
       "      <td>3978640000</td>\n",
       "      <td>-0.015811</td>\n",
       "      <td>4055.989990</td>\n",
       "      <td>0</td>\n",
       "    </tr>\n",
       "    <tr>\n",
       "      <th>2023-04-26 00:00:00-04:00</th>\n",
       "      <td>4087.780029</td>\n",
       "      <td>4089.669922</td>\n",
       "      <td>4049.350098</td>\n",
       "      <td>4055.989990</td>\n",
       "      <td>3837030000</td>\n",
       "      <td>-0.003841</td>\n",
       "      <td>4135.350098</td>\n",
       "      <td>1</td>\n",
       "    </tr>\n",
       "    <tr>\n",
       "      <th>2023-04-27 00:00:00-04:00</th>\n",
       "      <td>4075.290039</td>\n",
       "      <td>4138.240234</td>\n",
       "      <td>4075.290039</td>\n",
       "      <td>4135.350098</td>\n",
       "      <td>3750550000</td>\n",
       "      <td>0.019566</td>\n",
       "      <td>4160.290039</td>\n",
       "      <td>1</td>\n",
       "    </tr>\n",
       "    <tr>\n",
       "      <th>2023-04-28 00:00:00-04:00</th>\n",
       "      <td>4129.299805</td>\n",
       "      <td>4166.459961</td>\n",
       "      <td>4127.169922</td>\n",
       "      <td>4160.290039</td>\n",
       "      <td>1834513000</td>\n",
       "      <td>0.006031</td>\n",
       "      <td>NaN</td>\n",
       "      <td>0</td>\n",
       "    </tr>\n",
       "  </tbody>\n",
       "</table>\n",
       "<p>5868 rows × 8 columns</p>\n",
       "</div>"
      ],
      "text/plain": [
       "                                  Open         High          Low        Close  \\\n",
       "Date                                                                            \n",
       "2000-01-03 00:00:00-05:00  1469.250000  1478.000000  1438.359985  1455.219971   \n",
       "2000-01-04 00:00:00-05:00  1455.219971  1455.219971  1397.430054  1399.420044   \n",
       "2000-01-05 00:00:00-05:00  1399.420044  1413.270020  1377.680054  1402.109985   \n",
       "2000-01-06 00:00:00-05:00  1402.109985  1411.900024  1392.099976  1403.449951   \n",
       "2000-01-07 00:00:00-05:00  1403.449951  1441.469971  1400.729980  1441.469971   \n",
       "...                                ...          ...          ...          ...   \n",
       "2023-04-24 00:00:00-04:00  4132.069824  4142.410156  4117.770020  4137.040039   \n",
       "2023-04-25 00:00:00-04:00  4126.430176  4126.430176  4071.379883  4071.629883   \n",
       "2023-04-26 00:00:00-04:00  4087.780029  4089.669922  4049.350098  4055.989990   \n",
       "2023-04-27 00:00:00-04:00  4075.290039  4138.240234  4075.290039  4135.350098   \n",
       "2023-04-28 00:00:00-04:00  4129.299805  4166.459961  4127.169922  4160.290039   \n",
       "\n",
       "                               Volume  Daily_Return  Next Day Price  Target  \n",
       "Date                                                                         \n",
       "2000-01-03 00:00:00-05:00   931800000     -0.009549     1399.420044       0  \n",
       "2000-01-04 00:00:00-05:00  1009000000     -0.038345     1402.109985       1  \n",
       "2000-01-05 00:00:00-05:00  1085500000      0.001922     1403.449951       1  \n",
       "2000-01-06 00:00:00-05:00  1092300000      0.000956     1441.469971       1  \n",
       "2000-01-07 00:00:00-05:00  1225200000      0.027090     1457.599976       1  \n",
       "...                               ...           ...             ...     ...  \n",
       "2023-04-24 00:00:00-04:00  3290940000      0.000852     4071.629883       0  \n",
       "2023-04-25 00:00:00-04:00  3978640000     -0.015811     4055.989990       0  \n",
       "2023-04-26 00:00:00-04:00  3837030000     -0.003841     4135.350098       1  \n",
       "2023-04-27 00:00:00-04:00  3750550000      0.019566     4160.290039       1  \n",
       "2023-04-28 00:00:00-04:00  1834513000      0.006031             NaN       0  \n",
       "\n",
       "[5868 rows x 8 columns]"
      ]
     },
     "execution_count": 24,
     "metadata": {},
     "output_type": "execute_result"
    }
   ],
   "source": [
    "rf_model_df"
   ]
  },
  {
   "cell_type": "markdown",
   "id": "e0b394e7",
   "metadata": {},
   "source": [
    "####  Above we can see that when price goes up the next day Target = 1 and if the price goes down Target = 0"
   ]
  },
  {
   "cell_type": "markdown",
   "id": "2ad360e8",
   "metadata": {},
   "source": [
    "## Model and Training"
   ]
  },
  {
   "cell_type": "markdown",
   "id": "636b4e76",
   "metadata": {},
   "source": [
    "### Linear Regression Model"
   ]
  },
  {
   "cell_type": "code",
   "execution_count": 25,
   "id": "11825564",
   "metadata": {},
   "outputs": [],
   "source": [
    "# Create Linear Regression Model \n",
    "linear_model_df['Numbers'] = list(range(0, len(linear_model_df)))"
   ]
  },
  {
   "cell_type": "code",
   "execution_count": 26,
   "id": "c62ca0c3",
   "metadata": {},
   "outputs": [],
   "source": [
    "# Format data correctly for the model\n",
    "x = np.array(linear_model_df[['Numbers']])\n",
    "\n",
    "# Try to predict Close value\n",
    "y = linear_model_df['Close'].values"
   ]
  },
  {
   "cell_type": "code",
   "execution_count": 27,
   "id": "15d0db7d",
   "metadata": {},
   "outputs": [],
   "source": [
    "# Creating Linear Model\n",
    "linear_model = LinearRegression()\n",
    "\n",
    "linear_model.fit(x,y)\n",
    "\n",
    "intercept = linear_model.intercept_\n",
    "slope = linear_model.coef_"
   ]
  },
  {
   "cell_type": "code",
   "execution_count": 28,
   "id": "a0a7ff72",
   "metadata": {},
   "outputs": [
    {
     "name": "stdout",
     "output_type": "stream",
     "text": [
      "Intercept- -661.1643769358344\n",
      "Slope -  [0.15310608]\n"
     ]
    }
   ],
   "source": [
    "print('Intercept-', intercept)\n",
    "print('Slope - ', slope)"
   ]
  },
  {
   "cell_type": "code",
   "execution_count": 29,
   "id": "1cec5cfd",
   "metadata": {},
   "outputs": [
    {
     "name": "stdout",
     "output_type": "stream",
     "text": [
      "0.6768815426960602\n"
     ]
    }
   ],
   "source": [
    "# Create Predictions from linear regression y = mx+b \n",
    "y_pred = slope*x + intercept\n",
    "\n",
    "linear_model_df['predictions'] = y_pred\n",
    "\n",
    "# Get R2 Score\n",
    "r2 = r2_score(linear_model_df['Close'], linear_model_df['predictions'])\n",
    "print(r2)"
   ]
  },
  {
   "cell_type": "code",
   "execution_count": 30,
   "id": "2be5aa46",
   "metadata": {
    "scrolled": false
   },
   "outputs": [
    {
     "data": {
      "text/plain": [
       "<AxesSubplot:xlabel='Date'>"
      ]
     },
     "execution_count": 30,
     "metadata": {},
     "output_type": "execute_result"
    },
    {
     "data": {
      "image/png": "[encoded data removed]",
      "text/plain": [
       "<Figure size 640x480 with 1 Axes>"
      ]
     },
     "metadata": {},
     "output_type": "display_data"
    }
   ],
   "source": [
    "linear_model_df['predictions'].plot()\n",
    "linear_model_df['Close'].plot()"
   ]
  },
  {
   "cell_type": "markdown",
   "id": "16816a18",
   "metadata": {},
   "source": [
    "##### Results of Linear Model\n",
    "\n",
    "The linear model has an accuracy of 68% based on this model. This score can be improved by creating a possible multi-linear model, however the data doesn't encompass any external factors going on in the world that could add noise or anomolies that effect the stock market(industries specific news, global events, etc.).\n",
    "\n",
    "The simplisity of the model could be what is leading to a lower accuracy score. I will try to use a Random Forest Model given the data from yfinance to try to get a better model score and instead of trying to predict price, to predict the direction the next day price might be."
   ]
  },
  {
   "cell_type": "markdown",
   "id": "32eb401b",
   "metadata": {},
   "source": [
    "### Random Forest"
   ]
  },
  {
   "cell_type": "markdown",
   "id": "ffa6437a",
   "metadata": {},
   "source": [
    "I chose Random Forest because it is easier to avoid overfitting with a RF Models and could pick up on non-linear relationships in the data. Since the Linear Regression model above performed with 67% I will use the RF model to see if it will perform better.\n",
    "\n",
    "Because this is Time-Series Data we can't use cross-validation because it will lead to a higher r2 and will make the model look perfect, when in reality it is just learning on itself because it knows what the future value would be."
   ]
  },
  {
   "cell_type": "code",
   "execution_count": 31,
   "id": "b8083ba5",
   "metadata": {},
   "outputs": [],
   "source": [
    "# Random Forest (RF)\n",
    "rf = RandomForestClassifier(n_estimators=100, min_samples_split=100, random_state=1)"
   ]
  },
  {
   "cell_type": "code",
   "execution_count": 32,
   "id": "6bb32609",
   "metadata": {},
   "outputs": [],
   "source": [
    "# Split the data and filter out future data so that it doesn't use future data to predict the past\n",
    "train = rf_model_df.iloc[:-100]\n",
    "test = rf_model_df.iloc[-100:]"
   ]
  },
  {
   "cell_type": "code",
   "execution_count": 33,
   "id": "62898e0d",
   "metadata": {},
   "outputs": [
    {
     "data": {
      "text/plain": [
       "RandomForestClassifier(min_samples_split=100, random_state=1)"
      ]
     },
     "execution_count": 33,
     "metadata": {},
     "output_type": "execute_result"
    }
   ],
   "source": [
    "predictors = ['Close', 'Volume', 'Open', 'High', 'Low']\n",
    "\n",
    "rf.fit(train[predictors], train['Target'])"
   ]
  },
  {
   "cell_type": "code",
   "execution_count": 34,
   "id": "c57053e8",
   "metadata": {},
   "outputs": [],
   "source": [
    "rf_predictions = rf.predict(test[predictors])\n",
    "\n",
    "rf_predictions = pd.Series(rf_predictions, index=test.index)"
   ]
  },
  {
   "cell_type": "code",
   "execution_count": 35,
   "id": "5f42b052",
   "metadata": {
    "scrolled": true
   },
   "outputs": [
    {
     "data": {
      "text/plain": [
       "Date\n",
       "2022-12-05 00:00:00-05:00    0\n",
       "2022-12-06 00:00:00-05:00    0\n",
       "2022-12-07 00:00:00-05:00    0\n",
       "2022-12-08 00:00:00-05:00    0\n",
       "2022-12-09 00:00:00-05:00    0\n",
       "                            ..\n",
       "2023-04-24 00:00:00-04:00    0\n",
       "2023-04-25 00:00:00-04:00    0\n",
       "2023-04-26 00:00:00-04:00    0\n",
       "2023-04-27 00:00:00-04:00    0\n",
       "2023-04-28 00:00:00-04:00    0\n",
       "Length: 100, dtype: int64"
      ]
     },
     "execution_count": 35,
     "metadata": {},
     "output_type": "execute_result"
    }
   ],
   "source": [
    "rf_predictions"
   ]
  },
  {
   "cell_type": "code",
   "execution_count": 36,
   "id": "a2926a98",
   "metadata": {},
   "outputs": [
    {
     "data": {
      "text/plain": [
       "array([[37, 13],\n",
       "       [41,  9]])"
      ]
     },
     "execution_count": 36,
     "metadata": {},
     "output_type": "execute_result"
    }
   ],
   "source": [
    "confusion_matrix(test['Target'], rf_predictions)"
   ]
  },
  {
   "cell_type": "code",
   "execution_count": 37,
   "id": "df939e16",
   "metadata": {},
   "outputs": [
    {
     "name": "stdout",
     "output_type": "stream",
     "text": [
      "              precision    recall  f1-score   support\n",
      "\n",
      "           0       0.47      0.74      0.58        50\n",
      "           1       0.41      0.18      0.25        50\n",
      "\n",
      "    accuracy                           0.46       100\n",
      "   macro avg       0.44      0.46      0.41       100\n",
      "weighted avg       0.44      0.46      0.41       100\n",
      "\n"
     ]
    }
   ],
   "source": [
    "print(classification_report(test['Target'], rf_predictions))"
   ]
  },
  {
   "cell_type": "code",
   "execution_count": 38,
   "id": "b6dc12c7",
   "metadata": {},
   "outputs": [
    {
     "data": {
      "text/plain": [
       "0.4090909090909091"
      ]
     },
     "execution_count": 38,
     "metadata": {},
     "output_type": "execute_result"
    }
   ],
   "source": [
    "precision_score(test['Target'], rf_predictions)"
   ]
  },
  {
   "cell_type": "markdown",
   "id": "cf239e67",
   "metadata": {},
   "source": [
    "### Hyperparametrizing\n",
    "Improving the model by adding additional predictors/ indicators to get a better scope of stock market movements/ features"
   ]
  },
  {
   "cell_type": "code",
   "execution_count": 39,
   "id": "775f3d07",
   "metadata": {},
   "outputs": [],
   "source": [
    "# Calculate Simple Moving Average 30 and 60 days\n",
    "rf_model_df['SMA 30'] = rf_model_df['Close'].rolling(window=30).mean()\n",
    "rf_model_df['SMA 60'] = rf_model_df['Close'].rolling(window=60).mean()\n",
    "\n",
    "#Exponential Moving Average 30 and 60 days\n",
    "rf_model_df['EMA 30'] = rf_model_df['Close'].ewm(span=30).mean()\n",
    "rf_model_df['EMA 60'] = rf_model_df['Close'].ewm(span=60).mean()\n",
    "\n",
    "#Trend Indicator\n",
    "rf_model_df['Weekly Trend'] = rf_model_df.shift(1).rolling(7).sum()['Target']\n",
    "\n",
    "# Drop Na Values\n",
    "rf_model_df = rf_model_df.dropna()"
   ]
  },
  {
   "cell_type": "code",
   "execution_count": 40,
   "id": "5f05bc34",
   "metadata": {},
   "outputs": [
    {
     "data": {
      "text/html": [
       "<div>\n",
       "<style scoped>\n",
       "    .dataframe tbody tr th:only-of-type {\n",
       "        vertical-align: middle;\n",
       "    }\n",
       "\n",
       "    .dataframe tbody tr th {\n",
       "        vertical-align: top;\n",
       "    }\n",
       "\n",
       "    .dataframe thead th {\n",
       "        text-align: right;\n",
       "    }\n",
       "</style>\n",
       "<table border=\"1\" class=\"dataframe\">\n",
       "  <thead>\n",
       "    <tr style=\"text-align: right;\">\n",
       "      <th></th>\n",
       "      <th>Open</th>\n",
       "      <th>High</th>\n",
       "      <th>Low</th>\n",
       "      <th>Close</th>\n",
       "      <th>Volume</th>\n",
       "      <th>Daily_Return</th>\n",
       "      <th>Next Day Price</th>\n",
       "      <th>Target</th>\n",
       "      <th>SMA 30</th>\n",
       "      <th>SMA 60</th>\n",
       "      <th>EMA 30</th>\n",
       "      <th>EMA 60</th>\n",
       "      <th>Weekly Trend</th>\n",
       "    </tr>\n",
       "    <tr>\n",
       "      <th>Date</th>\n",
       "      <th></th>\n",
       "      <th></th>\n",
       "      <th></th>\n",
       "      <th></th>\n",
       "      <th></th>\n",
       "      <th></th>\n",
       "      <th></th>\n",
       "      <th></th>\n",
       "      <th></th>\n",
       "      <th></th>\n",
       "      <th></th>\n",
       "      <th></th>\n",
       "      <th></th>\n",
       "    </tr>\n",
       "  </thead>\n",
       "  <tbody>\n",
       "    <tr>\n",
       "      <th>2000-03-28 00:00:00-05:00</th>\n",
       "      <td>1523.859985</td>\n",
       "      <td>1527.359985</td>\n",
       "      <td>1507.089966</td>\n",
       "      <td>1507.729980</td>\n",
       "      <td>959100000</td>\n",
       "      <td>-0.010585</td>\n",
       "      <td>1508.520020</td>\n",
       "      <td>1</td>\n",
       "      <td>1410.468665</td>\n",
       "      <td>1416.084497</td>\n",
       "      <td>1437.627156</td>\n",
       "      <td>1423.517742</td>\n",
       "      <td>4.0</td>\n",
       "    </tr>\n",
       "    <tr>\n",
       "      <th>2000-03-29 00:00:00-05:00</th>\n",
       "      <td>1507.729980</td>\n",
       "      <td>1521.449951</td>\n",
       "      <td>1497.449951</td>\n",
       "      <td>1508.520020</td>\n",
       "      <td>1061900000</td>\n",
       "      <td>0.000524</td>\n",
       "      <td>1487.920044</td>\n",
       "      <td>0</td>\n",
       "      <td>1414.017664</td>\n",
       "      <td>1416.972831</td>\n",
       "      <td>1442.280501</td>\n",
       "      <td>1426.724365</td>\n",
       "      <td>5.0</td>\n",
       "    </tr>\n",
       "    <tr>\n",
       "      <th>2000-03-30 00:00:00-05:00</th>\n",
       "      <td>1508.520020</td>\n",
       "      <td>1517.380005</td>\n",
       "      <td>1474.630005</td>\n",
       "      <td>1487.920044</td>\n",
       "      <td>1193400000</td>\n",
       "      <td>-0.013656</td>\n",
       "      <td>1498.579956</td>\n",
       "      <td>1</td>\n",
       "      <td>1417.359330</td>\n",
       "      <td>1418.447831</td>\n",
       "      <td>1445.272880</td>\n",
       "      <td>1429.021567</td>\n",
       "      <td>4.0</td>\n",
       "    </tr>\n",
       "    <tr>\n",
       "      <th>2000-03-31 00:00:00-05:00</th>\n",
       "      <td>1487.920044</td>\n",
       "      <td>1519.810059</td>\n",
       "      <td>1484.380005</td>\n",
       "      <td>1498.579956</td>\n",
       "      <td>1227400000</td>\n",
       "      <td>0.007164</td>\n",
       "      <td>1505.969971</td>\n",
       "      <td>1</td>\n",
       "      <td>1421.036662</td>\n",
       "      <td>1420.055664</td>\n",
       "      <td>1448.764321</td>\n",
       "      <td>1431.620346</td>\n",
       "      <td>4.0</td>\n",
       "    </tr>\n",
       "    <tr>\n",
       "      <th>2000-04-03 00:00:00-04:00</th>\n",
       "      <td>1498.579956</td>\n",
       "      <td>1507.189941</td>\n",
       "      <td>1486.959961</td>\n",
       "      <td>1505.969971</td>\n",
       "      <td>1021700000</td>\n",
       "      <td>0.004931</td>\n",
       "      <td>1494.729980</td>\n",
       "      <td>0</td>\n",
       "      <td>1426.365995</td>\n",
       "      <td>1421.764331</td>\n",
       "      <td>1452.507436</td>\n",
       "      <td>1434.385481</td>\n",
       "      <td>4.0</td>\n",
       "    </tr>\n",
       "    <tr>\n",
       "      <th>...</th>\n",
       "      <td>...</td>\n",
       "      <td>...</td>\n",
       "      <td>...</td>\n",
       "      <td>...</td>\n",
       "      <td>...</td>\n",
       "      <td>...</td>\n",
       "      <td>...</td>\n",
       "      <td>...</td>\n",
       "      <td>...</td>\n",
       "      <td>...</td>\n",
       "      <td>...</td>\n",
       "      <td>...</td>\n",
       "      <td>...</td>\n",
       "    </tr>\n",
       "    <tr>\n",
       "      <th>2023-04-21 00:00:00-04:00</th>\n",
       "      <td>4132.140137</td>\n",
       "      <td>4138.020020</td>\n",
       "      <td>4113.859863</td>\n",
       "      <td>4133.520020</td>\n",
       "      <td>3611750000</td>\n",
       "      <td>0.000903</td>\n",
       "      <td>4137.040039</td>\n",
       "      <td>1</td>\n",
       "      <td>4036.391675</td>\n",
       "      <td>4045.910335</td>\n",
       "      <td>4073.886549</td>\n",
       "      <td>4036.962786</td>\n",
       "      <td>4.0</td>\n",
       "    </tr>\n",
       "    <tr>\n",
       "      <th>2023-04-24 00:00:00-04:00</th>\n",
       "      <td>4132.069824</td>\n",
       "      <td>4142.410156</td>\n",
       "      <td>4117.770020</td>\n",
       "      <td>4137.040039</td>\n",
       "      <td>3290940000</td>\n",
       "      <td>0.000852</td>\n",
       "      <td>4071.629883</td>\n",
       "      <td>0</td>\n",
       "      <td>4045.573340</td>\n",
       "      <td>4047.187170</td>\n",
       "      <td>4077.960968</td>\n",
       "      <td>4040.244007</td>\n",
       "      <td>4.0</td>\n",
       "    </tr>\n",
       "    <tr>\n",
       "      <th>2023-04-25 00:00:00-04:00</th>\n",
       "      <td>4126.430176</td>\n",
       "      <td>4126.430176</td>\n",
       "      <td>4071.379883</td>\n",
       "      <td>4071.629883</td>\n",
       "      <td>3978640000</td>\n",
       "      <td>-0.015811</td>\n",
       "      <td>4055.989990</td>\n",
       "      <td>0</td>\n",
       "      <td>4052.769002</td>\n",
       "      <td>4047.205001</td>\n",
       "      <td>4077.552511</td>\n",
       "      <td>4041.273052</td>\n",
       "      <td>4.0</td>\n",
       "    </tr>\n",
       "    <tr>\n",
       "      <th>2023-04-26 00:00:00-04:00</th>\n",
       "      <td>4087.780029</td>\n",
       "      <td>4089.669922</td>\n",
       "      <td>4049.350098</td>\n",
       "      <td>4055.989990</td>\n",
       "      <td>3837030000</td>\n",
       "      <td>-0.003841</td>\n",
       "      <td>4135.350098</td>\n",
       "      <td>1</td>\n",
       "      <td>4057.325667</td>\n",
       "      <td>4047.842000</td>\n",
       "      <td>4076.161380</td>\n",
       "      <td>4041.755575</td>\n",
       "      <td>3.0</td>\n",
       "    </tr>\n",
       "    <tr>\n",
       "      <th>2023-04-27 00:00:00-04:00</th>\n",
       "      <td>4075.290039</td>\n",
       "      <td>4138.240234</td>\n",
       "      <td>4075.290039</td>\n",
       "      <td>4135.350098</td>\n",
       "      <td>3750550000</td>\n",
       "      <td>0.019566</td>\n",
       "      <td>4160.290039</td>\n",
       "      <td>1</td>\n",
       "      <td>4065.439673</td>\n",
       "      <td>4048.821167</td>\n",
       "      <td>4079.980007</td>\n",
       "      <td>4044.824248</td>\n",
       "      <td>3.0</td>\n",
       "    </tr>\n",
       "  </tbody>\n",
       "</table>\n",
       "<p>5808 rows × 13 columns</p>\n",
       "</div>"
      ],
      "text/plain": [
       "                                  Open         High          Low        Close  \\\n",
       "Date                                                                            \n",
       "2000-03-28 00:00:00-05:00  1523.859985  1527.359985  1507.089966  1507.729980   \n",
       "2000-03-29 00:00:00-05:00  1507.729980  1521.449951  1497.449951  1508.520020   \n",
       "2000-03-30 00:00:00-05:00  1508.520020  1517.380005  1474.630005  1487.920044   \n",
       "2000-03-31 00:00:00-05:00  1487.920044  1519.810059  1484.380005  1498.579956   \n",
       "2000-04-03 00:00:00-04:00  1498.579956  1507.189941  1486.959961  1505.969971   \n",
       "...                                ...          ...          ...          ...   \n",
       "2023-04-21 00:00:00-04:00  4132.140137  4138.020020  4113.859863  4133.520020   \n",
       "2023-04-24 00:00:00-04:00  4132.069824  4142.410156  4117.770020  4137.040039   \n",
       "2023-04-25 00:00:00-04:00  4126.430176  4126.430176  4071.379883  4071.629883   \n",
       "2023-04-26 00:00:00-04:00  4087.780029  4089.669922  4049.350098  4055.989990   \n",
       "2023-04-27 00:00:00-04:00  4075.290039  4138.240234  4075.290039  4135.350098   \n",
       "\n",
       "                               Volume  Daily_Return  Next Day Price  Target  \\\n",
       "Date                                                                          \n",
       "2000-03-28 00:00:00-05:00   959100000     -0.010585     1508.520020       1   \n",
       "2000-03-29 00:00:00-05:00  1061900000      0.000524     1487.920044       0   \n",
       "2000-03-30 00:00:00-05:00  1193400000     -0.013656     1498.579956       1   \n",
       "2000-03-31 00:00:00-05:00  1227400000      0.007164     1505.969971       1   \n",
       "2000-04-03 00:00:00-04:00  1021700000      0.004931     1494.729980       0   \n",
       "...                               ...           ...             ...     ...   \n",
       "2023-04-21 00:00:00-04:00  3611750000      0.000903     4137.040039       1   \n",
       "2023-04-24 00:00:00-04:00  3290940000      0.000852     4071.629883       0   \n",
       "2023-04-25 00:00:00-04:00  3978640000     -0.015811     4055.989990       0   \n",
       "2023-04-26 00:00:00-04:00  3837030000     -0.003841     4135.350098       1   \n",
       "2023-04-27 00:00:00-04:00  3750550000      0.019566     4160.290039       1   \n",
       "\n",
       "                                SMA 30       SMA 60       EMA 30       EMA 60  \\\n",
       "Date                                                                            \n",
       "2000-03-28 00:00:00-05:00  1410.468665  1416.084497  1437.627156  1423.517742   \n",
       "2000-03-29 00:00:00-05:00  1414.017664  1416.972831  1442.280501  1426.724365   \n",
       "2000-03-30 00:00:00-05:00  1417.359330  1418.447831  1445.272880  1429.021567   \n",
       "2000-03-31 00:00:00-05:00  1421.036662  1420.055664  1448.764321  1431.620346   \n",
       "2000-04-03 00:00:00-04:00  1426.365995  1421.764331  1452.507436  1434.385481   \n",
       "...                                ...          ...          ...          ...   \n",
       "2023-04-21 00:00:00-04:00  4036.391675  4045.910335  4073.886549  4036.962786   \n",
       "2023-04-24 00:00:00-04:00  4045.573340  4047.187170  4077.960968  4040.244007   \n",
       "2023-04-25 00:00:00-04:00  4052.769002  4047.205001  4077.552511  4041.273052   \n",
       "2023-04-26 00:00:00-04:00  4057.325667  4047.842000  4076.161380  4041.755575   \n",
       "2023-04-27 00:00:00-04:00  4065.439673  4048.821167  4079.980007  4044.824248   \n",
       "\n",
       "                           Weekly Trend  \n",
       "Date                                     \n",
       "2000-03-28 00:00:00-05:00           4.0  \n",
       "2000-03-29 00:00:00-05:00           5.0  \n",
       "2000-03-30 00:00:00-05:00           4.0  \n",
       "2000-03-31 00:00:00-05:00           4.0  \n",
       "2000-04-03 00:00:00-04:00           4.0  \n",
       "...                                 ...  \n",
       "2023-04-21 00:00:00-04:00           4.0  \n",
       "2023-04-24 00:00:00-04:00           4.0  \n",
       "2023-04-25 00:00:00-04:00           4.0  \n",
       "2023-04-26 00:00:00-04:00           3.0  \n",
       "2023-04-27 00:00:00-04:00           3.0  \n",
       "\n",
       "[5808 rows x 13 columns]"
      ]
     },
     "execution_count": 40,
     "metadata": {},
     "output_type": "execute_result"
    }
   ],
   "source": [
    "rf_model_df"
   ]
  },
  {
   "cell_type": "markdown",
   "id": "4c251c93",
   "metadata": {},
   "source": [
    "### New RF Classifier Model with updated Predictors"
   ]
  },
  {
   "cell_type": "code",
   "execution_count": 41,
   "id": "9728c122",
   "metadata": {},
   "outputs": [
    {
     "data": {
      "text/plain": [
       "RandomForestClassifier(min_samples_split=100, random_state=1)"
      ]
     },
     "execution_count": 41,
     "metadata": {},
     "output_type": "execute_result"
    }
   ],
   "source": [
    "rf2 = RandomForestClassifier(n_estimators=100, min_samples_split=100, random_state=1)\n",
    "\n",
    "# Split the data and filter out future data so that it doesn't use future data to predict the past\n",
    "train = rf_model_df.iloc[:-100]\n",
    "test = rf_model_df.iloc[-100:]\n",
    "\n",
    "# New Predictors\n",
    "predictors = ['Close', 'Volume', 'Open', 'High', 'Low', 'SMA 30', 'SMA 60', 'EMA 30', 'EMA 60', 'Weekly Trend']\n",
    "\n",
    "rf2.fit(train[predictors], train['Target'])\n"
   ]
  },
  {
   "cell_type": "code",
   "execution_count": 42,
   "id": "fcdbc49b",
   "metadata": {},
   "outputs": [],
   "source": [
    "rf_predictions2 = rf2.predict(test[predictors])\n",
    "\n",
    "rf_predictions = pd.Series(rf_predictions2, index=test.index)"
   ]
  },
  {
   "cell_type": "code",
   "execution_count": 43,
   "id": "565b4651",
   "metadata": {},
   "outputs": [
    {
     "data": {
      "text/plain": [
       "array([[43,  7],\n",
       "       [40, 10]])"
      ]
     },
     "execution_count": 43,
     "metadata": {},
     "output_type": "execute_result"
    }
   ],
   "source": [
    "confusion_matrix(test['Target'], rf_predictions)"
   ]
  },
  {
   "cell_type": "code",
   "execution_count": 44,
   "id": "f6d7e73a",
   "metadata": {},
   "outputs": [
    {
     "name": "stdout",
     "output_type": "stream",
     "text": [
      "              precision    recall  f1-score   support\n",
      "\n",
      "           0       0.52      0.86      0.65        50\n",
      "           1       0.59      0.20      0.30        50\n",
      "\n",
      "    accuracy                           0.53       100\n",
      "   macro avg       0.55      0.53      0.47       100\n",
      "weighted avg       0.55      0.53      0.47       100\n",
      "\n"
     ]
    }
   ],
   "source": [
    "print(classification_report(test['Target'], rf_predictions))"
   ]
  },
  {
   "cell_type": "code",
   "execution_count": 45,
   "id": "289ff46d",
   "metadata": {},
   "outputs": [
    {
     "data": {
      "text/plain": [
       "0.5882352941176471"
      ]
     },
     "execution_count": 45,
     "metadata": {},
     "output_type": "execute_result"
    }
   ],
   "source": [
    "precision_score(test['Target'], rf_predictions)"
   ]
  },
  {
   "cell_type": "code",
   "execution_count": 46,
   "id": "b0b37aba",
   "metadata": {},
   "outputs": [
    {
     "name": "stderr",
     "output_type": "stream",
     "text": [
      "/opt/anaconda3/lib/python3.9/site-packages/sklearn/utils/deprecation.py:87: FutureWarning: Function plot_precision_recall_curve is deprecated; Function `plot_precision_recall_curve` is deprecated in 1.0 and will be removed in 1.2. Use one of the class methods: PrecisionRecallDisplay.from_predictions or PrecisionRecallDisplay.from_estimator.\n",
      "  warnings.warn(msg, category=FutureWarning)\n"
     ]
    },
    {
     "data": {
      "image/png": "[encoded data removed]",
      "text/plain": [
       "<Figure size 800x600 with 1 Axes>"
      ]
     },
     "metadata": {},
     "output_type": "display_data"
    }
   ],
   "source": [
    "fig, ax = plt.subplots(figsize=(8, 6))\n",
    "plot_precision_recall_curve(rf2, test[predictors], test['Target'], ax=ax)\n",
    "ax.set_title(\"Precision-Recall Curve\")\n",
    "plt.show()"
   ]
  },
  {
   "cell_type": "markdown",
   "id": "28d71038",
   "metadata": {},
   "source": [
    "# Overall Results"
   ]
  },
  {
   "cell_type": "markdown",
   "id": "a63f4ebc",
   "metadata": {},
   "source": [
    "Results and\n",
    "analysis section\n",
    "goes above\n",
    "expectations. E.g.\n",
    "includes a\n",
    "summary with\n",
    "basic results and\n",
    "analysis and three\n",
    "of the following:\n",
    "good amount of\n",
    "visualizations or\n",
    "tries different\n",
    "evaluation metrics\n",
    "or iterates\n",
    "training/evaluating\n",
    "and improving\n",
    "performance or\n",
    "shows/discusses\n",
    "model\n",
    "performance"
   ]
  },
  {
   "cell_type": "markdown",
   "id": "2f6dc3f8",
   "metadata": {},
   "source": [
    "# Conclusion"
   ]
  },
  {
   "cell_type": "markdown",
   "id": "f216273a",
   "metadata": {},
   "source": [
    "Discussion and\n",
    "conclusion section\n",
    "goes above\n",
    "expectations.\n",
    "E.g. includes three\n",
    "of the following:\n",
    "discussion of\n",
    "learning and\n",
    "takeaways or\n",
    "discussion of why\n",
    "something didn’t\n",
    "work or suggests\n",
    "ways to improve."
   ]
  },
  {
   "cell_type": "markdown",
   "id": "4c7c8d08",
   "metadata": {},
   "source": [
    "# Resources\n",
    "- https://pypi.org/project/yfinance/\n",
    "- https://medium.com/analytics-vidhya/evaluating-a-random-forest-model-9d165595ad56#:~:text=A%20confusion%20matrix%20is%20a,the%20columns%20represent%20predicted%20labels.\n",
    "\n",
    "S&P500 History\n",
    "- https://www.investopedia.com/ask/answers/041015/what-history-sp-500.asp\n",
    "\n",
    "Bollinger Bands\n",
    "- https://medium.com/codex/how-to-calculate-bollinger-bands-of-a-stock-with-python-f9f7d1184fc3\n",
    "\n",
    "Simple Moving Averages\n",
    "- https://sohan-dillikar.medium.com/buy-and-sell-signals-with-the-simple-moving-average-crossover-8a51c9fa3e0a"
   ]
  },
  {
   "cell_type": "code",
   "execution_count": null,
   "id": "7772ce57",
   "metadata": {},
   "outputs": [],
   "source": []
  }
 ],
 "metadata": {
  "kernelspec": {
   "display_name": "Python 3 (ipykernel)",
   "language": "python",
   "name": "python3"
  },
  "language_info": {
   "codemirror_mode": {
    "name": "ipython",
    "version": 3
   },
   "file_extension": ".py",
   "mimetype": "text/x-python",
   "name": "python",
   "nbconvert_exporter": "python",
   "pygments_lexer": "ipython3",
   "version": "3.9.13"
  }
 },
 "nbformat": 4,
 "nbformat_minor": 5
}
